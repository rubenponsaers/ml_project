{
 "cells": [
  {
   "cell_type": "code",
   "execution_count": 34,
   "metadata": {},
   "outputs": [],
   "source": [
    "%reload_ext autoreload\n",
    "%autoreload 2\n",
    "import models\n",
    "%autoreload 2\n",
    "import utils\n",
    "import pyspiel\n",
    "import tensorflow.compat.v1 as tf\n"
   ]
  },
  {
   "cell_type": "code",
   "execution_count": 3,
   "metadata": {},
   "outputs": [
    {
     "name": "stdout",
     "output_type": "stream",
     "text": [
      "Metal device set to: Apple M1 Pro\n",
      "\n",
      "systemMemory: 16.00 GB\n",
      "maxCacheSize: 5.33 GB\n",
      "\n",
      "Training a Deep CFR Model with following configuration: {'game': 'kuhn_poker', 'num_players': 2, 'policy_network_layers': (8, 4), 'advantage_network_layers': (4, 2), 'num_iterations': 2, 'num_traversals': 2, 'learning_rate': 0.001, 'num_steps': 50, 'checkpoint_dir': '/tmp/deep_cfr', 'save_every': 10, 'eval_every': 10}\n",
      "Deep CFR in Kuhn Poker 2p. NashConv: 0.9096332734036803 after 0 steps\n",
      "Deep CFR in Kuhn Poker 2p. NashConv: 0.9139588051654961 after 10 steps\n",
      "Deep CFR in Kuhn Poker 2p. NashConv: 0.911079768034811 after 20 steps\n",
      "Deep CFR in Kuhn Poker 2p. NashConv: 0.9023368939071337 after 30 steps\n",
      "Deep CFR in Kuhn Poker 2p. NashConv: 0.8884897233490016 after 40 steps\n"
     ]
    }
   ],
   "source": [
    "model = models.deep_cfr_model()"
   ]
  },
  {
   "cell_type": "code",
   "execution_count": 47,
   "metadata": {},
   "outputs": [
    {
     "name": "stdout",
     "output_type": "stream",
     "text": [
      "Possible actions: \n",
      "['Deal:0', 'Deal:1', 'Deal:2']\n",
      "P1 gets dealt a Deal:0\n",
      "P2 gets dealt a Deal:2\n",
      "{0: 0.9848237037658693, 1: 0.0151763008907437}\n",
      "0\n"
     ]
    }
   ],
   "source": [
    "game = pyspiel.load_game('kuhn_poker')\n",
    "policy = utils.tabular_policy_from_csv(game, \"/tmp/deep_cfr_tf2\")\n",
    "state = game.new_initial_state()\n",
    "print(\"Possible actions: \")\n",
    "possible_actions = [state.action_to_string(a) for a in state.legal_actions()]\n",
    "print(possible_actions)\n",
    "state.apply_action_with_legality_check(1)\n",
    "state.apply_action_with_legality_check(0)\n",
    "print(policy.action_probabilities(state))\n",
    "print(state.action_to_string(0))\n",
    "print(state.current_player())"
   ]
  },
  {
   "cell_type": "code",
   "execution_count": 32,
   "metadata": {},
   "outputs": [
    {
     "name": "stdout",
     "output_type": "stream",
     "text": [
      "{0: 0.3530632257461548, 1: 0.6469367742538452}\n",
      "1 0 b\n"
     ]
    }
   ],
   "source": [
    "state.apply_action_with_legality_check(1)\n",
    "print(policy.action_probabilities(state))\n",
    "print(state)"
   ]
  },
  {
   "cell_type": "code",
   "execution_count": 33,
   "metadata": {},
   "outputs": [
    {
     "name": "stdout",
     "output_type": "stream",
     "text": [
      "Pass\n"
     ]
    }
   ],
   "source": [
    "print(state.action_to_string(0))"
   ]
  },
  {
   "cell_type": "code",
   "execution_count": null,
   "metadata": {},
   "outputs": [],
   "source": []
  }
 ],
 "metadata": {
  "interpreter": {
   "hash": "b95502189abcc9a6f089083f6b33867805f1a950baee7549d22bcc2d172d462d"
  },
  "kernelspec": {
   "display_name": "Python 3.9.10",
   "language": "python",
   "name": "python3"
  },
  "language_info": {
   "codemirror_mode": {
    "name": "ipython",
    "version": 3
   },
   "file_extension": ".py",
   "mimetype": "text/x-python",
   "name": "python",
   "nbconvert_exporter": "python",
   "pygments_lexer": "ipython3",
   "version": "3.9.12"
  },
  "orig_nbformat": 4
 },
 "nbformat": 4,
 "nbformat_minor": 2
}
