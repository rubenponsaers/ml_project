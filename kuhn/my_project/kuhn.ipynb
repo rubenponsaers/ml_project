{
 "cells": [
  {
   "cell_type": "code",
   "execution_count": 9,
   "metadata": {},
   "outputs": [],
   "source": [
    "%reload_ext autoreload\n",
    "%autoreload 2\n",
    "import models\n",
    "%autoreload 2\n",
    "import utils\n",
    "import pyspiel\n",
    "import tensorflow.compat.v1 as tf\n"
   ]
  },
  {
   "cell_type": "code",
   "execution_count": 3,
   "metadata": {},
   "outputs": [
    {
     "name": "stdout",
     "output_type": "stream",
     "text": [
      "Metal device set to: Apple M1 Pro\n",
      "\n",
      "systemMemory: 16.00 GB\n",
      "maxCacheSize: 5.33 GB\n",
      "\n",
      "Training a Deep CFR Model with following configuration: {'game': 'kuhn_poker', 'num_players': 2, 'policy_network_layers': (8, 4), 'advantage_network_layers': (4, 2), 'num_iterations': 2, 'num_traversals': 2, 'learning_rate': 0.001, 'num_steps': 50, 'checkpoint_dir': '/tmp/deep_cfr', 'save_every': 10, 'eval_every': 10}\n",
      "Deep CFR in Kuhn Poker 2p. NashConv: 0.9096332734036803 after 0 steps\n",
      "Deep CFR in Kuhn Poker 2p. NashConv: 0.9139588051654961 after 10 steps\n",
      "Deep CFR in Kuhn Poker 2p. NashConv: 0.911079768034811 after 20 steps\n",
      "Deep CFR in Kuhn Poker 2p. NashConv: 0.9023368939071337 after 30 steps\n",
      "Deep CFR in Kuhn Poker 2p. NashConv: 0.8884897233490016 after 40 steps\n"
     ]
    }
   ],
   "source": [
    "model = models.deep_cfr_model()"
   ]
  },
  {
   "cell_type": "code",
   "execution_count": 17,
   "metadata": {},
   "outputs": [
    {
     "name": "stdout",
     "output_type": "stream",
     "text": [
      "Possible actions: \n",
      "['Deal:0', 'Deal:1', 'Deal:2']\n",
      "P1 gets dealt a Deal:2\n",
      "P2 gets dealt a Deal:0\n",
      "{0: 0.4810196459293365, 1: 0.5189803242683411}\n"
     ]
    }
   ],
   "source": [
    "game = pyspiel.load_game('kuhn_poker')\n",
    "policy = utils.tabular_policy_from_csv(game, \"/tmp/deep_cfr\")\n",
    "state = game.new_initial_state()\n",
    "print(\"Possible actions: \")\n",
    "possible_actions = [state.action_to_string(a) for a in state.legal_actions()]\n",
    "print(possible_actions)\n",
    "print(\"P1 gets dealt a {}\".format(possible_actions[1]))\n",
    "state.apply_action_with_legality_check(1)\n",
    "print(\"P2 gets dealt a {}\".format(possible_actions[0]))\n",
    "state.apply_action_with_legality_check(0)\n",
    "print(policy.action_probabilities(state))"
   ]
  },
  {
   "cell_type": "code",
   "execution_count": 74,
   "metadata": {},
   "outputs": [
    {
     "ename": "RuntimeError",
     "evalue": "Attempted to use a closed Session.",
     "output_type": "error",
     "traceback": [
      "\u001b[0;31m---------------------------------------------------------------------------\u001b[0m",
      "\u001b[0;31mRuntimeError\u001b[0m                              Traceback (most recent call last)",
      "\u001b[1;32m/Users/sennecolson/My Drive (sennecolson18@gmail.com)/CW/Semester2/MLP/ml_project/kuhn/my_project/kuhn.ipynb Cell 4'\u001b[0m in \u001b[0;36m<cell line: 1>\u001b[0;34m()\u001b[0m\n\u001b[1;32m      <a href='vscode-notebook-cell:/Users/sennecolson/My%20Drive%20%28sennecolson18%40gmail.com%29/CW/Semester2/MLP/ml_project/kuhn/my_project/kuhn.ipynb#ch0000003?line=0'>1</a>\u001b[0m \u001b[39mwith\u001b[39;00m tf\u001b[39m.\u001b[39mSession() \u001b[39mas\u001b[39;00m sess:\n\u001b[0;32m----> <a href='vscode-notebook-cell:/Users/sennecolson/My%20Drive%20%28sennecolson18%40gmail.com%29/CW/Semester2/MLP/ml_project/kuhn/my_project/kuhn.ipynb#ch0000003?line=1'>2</a>\u001b[0m     model\u001b[39m.\u001b[39;49maction_probabilities(state)\n",
      "File \u001b[0;32m~/miniforge3/lib/python3.9/site-packages/open_spiel/python/algorithms/deep_cfr.py:373\u001b[0m, in \u001b[0;36mDeepCFRSolver.action_probabilities\u001b[0;34m(self, state)\u001b[0m\n\u001b[1;32m    <a href='file:///Users/sennecolson/miniforge3/lib/python3.9/site-packages/open_spiel/python/algorithms/deep_cfr.py?line=370'>371</a>\u001b[0m \u001b[39mif\u001b[39;00m \u001b[39mlen\u001b[39m(info_state_vector\u001b[39m.\u001b[39mshape) \u001b[39m==\u001b[39m \u001b[39m1\u001b[39m:\n\u001b[1;32m    <a href='file:///Users/sennecolson/miniforge3/lib/python3.9/site-packages/open_spiel/python/algorithms/deep_cfr.py?line=371'>372</a>\u001b[0m   info_state_vector \u001b[39m=\u001b[39m np\u001b[39m.\u001b[39mexpand_dims(info_state_vector, axis\u001b[39m=\u001b[39m\u001b[39m0\u001b[39m)\n\u001b[0;32m--> <a href='file:///Users/sennecolson/miniforge3/lib/python3.9/site-packages/open_spiel/python/algorithms/deep_cfr.py?line=372'>373</a>\u001b[0m probs \u001b[39m=\u001b[39m \u001b[39mself\u001b[39;49m\u001b[39m.\u001b[39;49m_session\u001b[39m.\u001b[39;49mrun(\n\u001b[1;32m    <a href='file:///Users/sennecolson/miniforge3/lib/python3.9/site-packages/open_spiel/python/algorithms/deep_cfr.py?line=373'>374</a>\u001b[0m     \u001b[39mself\u001b[39;49m\u001b[39m.\u001b[39;49m_action_probs, feed_dict\u001b[39m=\u001b[39;49m{\u001b[39mself\u001b[39;49m\u001b[39m.\u001b[39;49m_info_state_ph: info_state_vector})\n\u001b[1;32m    <a href='file:///Users/sennecolson/miniforge3/lib/python3.9/site-packages/open_spiel/python/algorithms/deep_cfr.py?line=374'>375</a>\u001b[0m \u001b[39mreturn\u001b[39;00m {action: probs[\u001b[39m0\u001b[39m][action] \u001b[39mfor\u001b[39;00m action \u001b[39min\u001b[39;00m legal_actions}\n",
      "File \u001b[0;32m~/miniforge3/lib/python3.9/site-packages/tensorflow/python/client/session.py:967\u001b[0m, in \u001b[0;36mBaseSession.run\u001b[0;34m(self, fetches, feed_dict, options, run_metadata)\u001b[0m\n\u001b[1;32m    <a href='file:///Users/sennecolson/miniforge3/lib/python3.9/site-packages/tensorflow/python/client/session.py?line=963'>964</a>\u001b[0m run_metadata_ptr \u001b[39m=\u001b[39m tf_session\u001b[39m.\u001b[39mTF_NewBuffer() \u001b[39mif\u001b[39;00m run_metadata \u001b[39melse\u001b[39;00m \u001b[39mNone\u001b[39;00m\n\u001b[1;32m    <a href='file:///Users/sennecolson/miniforge3/lib/python3.9/site-packages/tensorflow/python/client/session.py?line=965'>966</a>\u001b[0m \u001b[39mtry\u001b[39;00m:\n\u001b[0;32m--> <a href='file:///Users/sennecolson/miniforge3/lib/python3.9/site-packages/tensorflow/python/client/session.py?line=966'>967</a>\u001b[0m   result \u001b[39m=\u001b[39m \u001b[39mself\u001b[39;49m\u001b[39m.\u001b[39;49m_run(\u001b[39mNone\u001b[39;49;00m, fetches, feed_dict, options_ptr,\n\u001b[1;32m    <a href='file:///Users/sennecolson/miniforge3/lib/python3.9/site-packages/tensorflow/python/client/session.py?line=967'>968</a>\u001b[0m                      run_metadata_ptr)\n\u001b[1;32m    <a href='file:///Users/sennecolson/miniforge3/lib/python3.9/site-packages/tensorflow/python/client/session.py?line=968'>969</a>\u001b[0m   \u001b[39mif\u001b[39;00m run_metadata:\n\u001b[1;32m    <a href='file:///Users/sennecolson/miniforge3/lib/python3.9/site-packages/tensorflow/python/client/session.py?line=969'>970</a>\u001b[0m     proto_data \u001b[39m=\u001b[39m tf_session\u001b[39m.\u001b[39mTF_GetBuffer(run_metadata_ptr)\n",
      "File \u001b[0;32m~/miniforge3/lib/python3.9/site-packages/tensorflow/python/client/session.py:1115\u001b[0m, in \u001b[0;36mBaseSession._run\u001b[0;34m(self, handle, fetches, feed_dict, options, run_metadata)\u001b[0m\n\u001b[1;32m   <a href='file:///Users/sennecolson/miniforge3/lib/python3.9/site-packages/tensorflow/python/client/session.py?line=1112'>1113</a>\u001b[0m \u001b[39m# Check session.\u001b[39;00m\n\u001b[1;32m   <a href='file:///Users/sennecolson/miniforge3/lib/python3.9/site-packages/tensorflow/python/client/session.py?line=1113'>1114</a>\u001b[0m \u001b[39mif\u001b[39;00m \u001b[39mself\u001b[39m\u001b[39m.\u001b[39m_closed:\n\u001b[0;32m-> <a href='file:///Users/sennecolson/miniforge3/lib/python3.9/site-packages/tensorflow/python/client/session.py?line=1114'>1115</a>\u001b[0m   \u001b[39mraise\u001b[39;00m \u001b[39mRuntimeError\u001b[39;00m(\u001b[39m'\u001b[39m\u001b[39mAttempted to use a closed Session.\u001b[39m\u001b[39m'\u001b[39m)\n\u001b[1;32m   <a href='file:///Users/sennecolson/miniforge3/lib/python3.9/site-packages/tensorflow/python/client/session.py?line=1115'>1116</a>\u001b[0m \u001b[39mif\u001b[39;00m \u001b[39mself\u001b[39m\u001b[39m.\u001b[39mgraph\u001b[39m.\u001b[39mversion \u001b[39m==\u001b[39m \u001b[39m0\u001b[39m:\n\u001b[1;32m   <a href='file:///Users/sennecolson/miniforge3/lib/python3.9/site-packages/tensorflow/python/client/session.py?line=1116'>1117</a>\u001b[0m   \u001b[39mraise\u001b[39;00m \u001b[39mRuntimeError\u001b[39;00m(\u001b[39m'\u001b[39m\u001b[39mThe Session graph is empty. Add operations to the \u001b[39m\u001b[39m'\u001b[39m\n\u001b[1;32m   <a href='file:///Users/sennecolson/miniforge3/lib/python3.9/site-packages/tensorflow/python/client/session.py?line=1117'>1118</a>\u001b[0m                      \u001b[39m'\u001b[39m\u001b[39mgraph before calling run().\u001b[39m\u001b[39m'\u001b[39m)\n",
      "\u001b[0;31mRuntimeError\u001b[0m: Attempted to use a closed Session."
     ]
    }
   ],
   "source": [
    "with tf.Session() as sess:\n",
    "    model.action_probabilities(state)"
   ]
  },
  {
   "cell_type": "code",
   "execution_count": null,
   "metadata": {},
   "outputs": [],
   "source": []
  }
 ],
 "metadata": {
  "interpreter": {
   "hash": "b95502189abcc9a6f089083f6b33867805f1a950baee7549d22bcc2d172d462d"
  },
  "kernelspec": {
   "display_name": "Python 3.9.10",
   "language": "python",
   "name": "python3"
  },
  "language_info": {
   "codemirror_mode": {
    "name": "ipython",
    "version": 3
   },
   "file_extension": ".py",
   "mimetype": "text/x-python",
   "name": "python",
   "nbconvert_exporter": "python",
   "pygments_lexer": "ipython3",
   "version": "3.9.12"
  },
  "orig_nbformat": 4
 },
 "nbformat": 4,
 "nbformat_minor": 2
}
