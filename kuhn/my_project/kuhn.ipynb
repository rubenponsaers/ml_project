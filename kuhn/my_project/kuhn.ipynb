{
 "cells": [
  {
   "cell_type": "code",
   "execution_count": 2,
   "metadata": {},
   "outputs": [],
   "source": [
    "%reload_ext autoreload\n",
    "%autoreload 2\n",
    "import models\n",
    "%autoreload 2\n",
    "import utils\n",
    "import pyspiel\n",
    "import tensorflow.compat.v1 as tf1\n"
   ]
  },
  {
   "cell_type": "code",
   "execution_count": 4,
   "metadata": {},
   "outputs": [
    {
     "name": "stdout",
     "output_type": "stream",
     "text": [
      "WARNING:tensorflow:From /Users/sennecolson/miniforge3/lib/python3.9/site-packages/tensorflow/python/compat/v2_compat.py:107: disable_resource_variables (from tensorflow.python.ops.variable_scope) is deprecated and will be removed in a future version.\n",
      "Instructions for updating:\n",
      "non-resource variables are not supported in the long term\n",
      "kuhn_poker()\n",
      "Training a Deep CFR Model with following configuration: {'game': 'kuhn_poker', 'num_players': 2, 'policy_network_layers': (256, 256), 'advantage_network_layers': (128, 128), 'num_iterations': 2, 'num_traversals': 2, 'batch_size_advantage': 8, 'batch_size_strategy': 8, 'learning_rate': 0.0001, 'num_steps': 100, 'policy_network_train_steps': 5000, 'advantage_network_train_steps': 750, 'checkpoint_dir': '/tmp/deep_cfr_tf2', 'save_every': 1, 'eval_every': 1}\n",
      "Metal device set to: Apple M1 Pro\n",
      "\n",
      "systemMemory: 16.00 GB\n",
      "maxCacheSize: 5.33 GB\n",
      "\n"
     ]
    },
    {
     "ename": "RuntimeError",
     "evalue": "Attempting to capture an EagerTensor without building a function.",
     "output_type": "error",
     "traceback": [
      "\u001b[0;31m---------------------------------------------------------------------------\u001b[0m",
      "\u001b[0;31mRuntimeError\u001b[0m                              Traceback (most recent call last)",
      "\u001b[1;32m/Users/sennecolson/My Drive (sennecolson18@gmail.com)/CW/Semester2/MLP/ml_project/kuhn/my_project/kuhn.ipynb Cell 2'\u001b[0m in \u001b[0;36m<cell line: 1>\u001b[0;34m()\u001b[0m\n\u001b[0;32m----> <a href='vscode-notebook-cell:/Users/sennecolson/My%20Drive%20%28sennecolson18%40gmail.com%29/CW/Semester2/MLP/ml_project/kuhn/my_project/kuhn.ipynb#ch0000001?line=0'>1</a>\u001b[0m model \u001b[39m=\u001b[39m models\u001b[39m.\u001b[39;49mdeep_cfr_model_tf2()\n",
      "File \u001b[0;32m~/My Drive (sennecolson18@gmail.com)/CW/Semester2/MLP/ml_project/kuhn/my_project/models.py:75\u001b[0m, in \u001b[0;36mdeep_cfr_model_tf2\u001b[0;34m()\u001b[0m\n\u001b[1;32m     <a href='file:///Users/sennecolson/My%20Drive%20%28sennecolson18%40gmail.com%29/CW/Semester2/MLP/ml_project/kuhn/my_project/models.py?line=72'>73</a>\u001b[0m for step in range(config['num_steps']):\n\u001b[1;32m     <a href='file:///Users/sennecolson/My%20Drive%20%28sennecolson18%40gmail.com%29/CW/Semester2/MLP/ml_project/kuhn/my_project/models.py?line=73'>74</a>\u001b[0m     deep_cfr_solver.solve()\n\u001b[0;32m---> <a href='file:///Users/sennecolson/My%20Drive%20%28sennecolson18%40gmail.com%29/CW/Semester2/MLP/ml_project/kuhn/my_project/models.py?line=74'>75</a>\u001b[0m     policy_model = policy.tabular_policy_from_callable(game, deep_cfr_solver.action_probabilities)\n\u001b[1;32m     <a href='file:///Users/sennecolson/My%20Drive%20%28sennecolson18%40gmail.com%29/CW/Semester2/MLP/ml_project/kuhn/my_project/models.py?line=75'>76</a>\u001b[0m     conv = exploitability.nash_conv(\n\u001b[1;32m     <a href='file:///Users/sennecolson/My%20Drive%20%28sennecolson18%40gmail.com%29/CW/Semester2/MLP/ml_project/kuhn/my_project/models.py?line=76'>77</a>\u001b[0m         game,\n",
      "File \u001b[0;32m~/miniforge3/lib/python3.9/site-packages/open_spiel/python/algorithms/deep_cfr_tf2.py:438\u001b[0m, in \u001b[0;36mDeepCFRSolver.solve\u001b[0;34m(self)\u001b[0m\n\u001b[1;32m    <a href='file:///Users/sennecolson/miniforge3/lib/python3.9/site-packages/open_spiel/python/algorithms/deep_cfr_tf2.py?line=435'>436</a>\u001b[0m \u001b[39mfor\u001b[39;00m p \u001b[39min\u001b[39;00m \u001b[39mrange\u001b[39m(\u001b[39mself\u001b[39m\u001b[39m.\u001b[39m_num_players):\n\u001b[1;32m    <a href='file:///Users/sennecolson/miniforge3/lib/python3.9/site-packages/open_spiel/python/algorithms/deep_cfr_tf2.py?line=436'>437</a>\u001b[0m   \u001b[39mfor\u001b[39;00m _ \u001b[39min\u001b[39;00m \u001b[39mrange\u001b[39m(\u001b[39mself\u001b[39m\u001b[39m.\u001b[39m_num_traversals):\n\u001b[0;32m--> <a href='file:///Users/sennecolson/miniforge3/lib/python3.9/site-packages/open_spiel/python/algorithms/deep_cfr_tf2.py?line=437'>438</a>\u001b[0m     \u001b[39mself\u001b[39;49m\u001b[39m.\u001b[39;49m_traverse_game_tree(\u001b[39mself\u001b[39;49m\u001b[39m.\u001b[39;49m_root_node, p)\n\u001b[1;32m    <a href='file:///Users/sennecolson/miniforge3/lib/python3.9/site-packages/open_spiel/python/algorithms/deep_cfr_tf2.py?line=438'>439</a>\u001b[0m   \u001b[39mif\u001b[39;00m \u001b[39mself\u001b[39m\u001b[39m.\u001b[39m_reinitialize_advantage_networks:\n\u001b[1;32m    <a href='file:///Users/sennecolson/miniforge3/lib/python3.9/site-packages/open_spiel/python/algorithms/deep_cfr_tf2.py?line=439'>440</a>\u001b[0m     \u001b[39m# Re-initialize advantage network for p and train from scratch.\u001b[39;00m\n\u001b[1;32m    <a href='file:///Users/sennecolson/miniforge3/lib/python3.9/site-packages/open_spiel/python/algorithms/deep_cfr_tf2.py?line=440'>441</a>\u001b[0m     \u001b[39mself\u001b[39m\u001b[39m.\u001b[39m_reinitialize_advantage_network(p)\n",
      "File \u001b[0;32m~/miniforge3/lib/python3.9/site-packages/open_spiel/python/algorithms/deep_cfr_tf2.py:565\u001b[0m, in \u001b[0;36mDeepCFRSolver._traverse_game_tree\u001b[0;34m(self, state, player)\u001b[0m\n\u001b[1;32m    <a href='file:///Users/sennecolson/miniforge3/lib/python3.9/site-packages/open_spiel/python/algorithms/deep_cfr_tf2.py?line=561'>562</a>\u001b[0m \u001b[39melif\u001b[39;00m state\u001b[39m.\u001b[39mis_chance_node():\n\u001b[1;32m    <a href='file:///Users/sennecolson/miniforge3/lib/python3.9/site-packages/open_spiel/python/algorithms/deep_cfr_tf2.py?line=562'>563</a>\u001b[0m   \u001b[39m# If this is a chance node, sample an action\u001b[39;00m\n\u001b[1;32m    <a href='file:///Users/sennecolson/miniforge3/lib/python3.9/site-packages/open_spiel/python/algorithms/deep_cfr_tf2.py?line=563'>564</a>\u001b[0m   action \u001b[39m=\u001b[39m np\u001b[39m.\u001b[39mrandom\u001b[39m.\u001b[39mchoice([i[\u001b[39m0\u001b[39m] \u001b[39mfor\u001b[39;00m i \u001b[39min\u001b[39;00m state\u001b[39m.\u001b[39mchance_outcomes()])\n\u001b[0;32m--> <a href='file:///Users/sennecolson/miniforge3/lib/python3.9/site-packages/open_spiel/python/algorithms/deep_cfr_tf2.py?line=564'>565</a>\u001b[0m   \u001b[39mreturn\u001b[39;00m \u001b[39mself\u001b[39;49m\u001b[39m.\u001b[39;49m_traverse_game_tree(state\u001b[39m.\u001b[39;49mchild(action), player)\n\u001b[1;32m    <a href='file:///Users/sennecolson/miniforge3/lib/python3.9/site-packages/open_spiel/python/algorithms/deep_cfr_tf2.py?line=565'>566</a>\u001b[0m \u001b[39melif\u001b[39;00m state\u001b[39m.\u001b[39mcurrent_player() \u001b[39m==\u001b[39m player:\n\u001b[1;32m    <a href='file:///Users/sennecolson/miniforge3/lib/python3.9/site-packages/open_spiel/python/algorithms/deep_cfr_tf2.py?line=566'>567</a>\u001b[0m   \u001b[39m# Update the policy over the info set & actions via regret matching.\u001b[39;00m\n\u001b[1;32m    <a href='file:///Users/sennecolson/miniforge3/lib/python3.9/site-packages/open_spiel/python/algorithms/deep_cfr_tf2.py?line=567'>568</a>\u001b[0m   _, strategy \u001b[39m=\u001b[39m \u001b[39mself\u001b[39m\u001b[39m.\u001b[39m_sample_action_from_advantage(state, player)\n",
      "File \u001b[0;32m~/miniforge3/lib/python3.9/site-packages/open_spiel/python/algorithms/deep_cfr_tf2.py:565\u001b[0m, in \u001b[0;36mDeepCFRSolver._traverse_game_tree\u001b[0;34m(self, state, player)\u001b[0m\n\u001b[1;32m    <a href='file:///Users/sennecolson/miniforge3/lib/python3.9/site-packages/open_spiel/python/algorithms/deep_cfr_tf2.py?line=561'>562</a>\u001b[0m \u001b[39melif\u001b[39;00m state\u001b[39m.\u001b[39mis_chance_node():\n\u001b[1;32m    <a href='file:///Users/sennecolson/miniforge3/lib/python3.9/site-packages/open_spiel/python/algorithms/deep_cfr_tf2.py?line=562'>563</a>\u001b[0m   \u001b[39m# If this is a chance node, sample an action\u001b[39;00m\n\u001b[1;32m    <a href='file:///Users/sennecolson/miniforge3/lib/python3.9/site-packages/open_spiel/python/algorithms/deep_cfr_tf2.py?line=563'>564</a>\u001b[0m   action \u001b[39m=\u001b[39m np\u001b[39m.\u001b[39mrandom\u001b[39m.\u001b[39mchoice([i[\u001b[39m0\u001b[39m] \u001b[39mfor\u001b[39;00m i \u001b[39min\u001b[39;00m state\u001b[39m.\u001b[39mchance_outcomes()])\n\u001b[0;32m--> <a href='file:///Users/sennecolson/miniforge3/lib/python3.9/site-packages/open_spiel/python/algorithms/deep_cfr_tf2.py?line=564'>565</a>\u001b[0m   \u001b[39mreturn\u001b[39;00m \u001b[39mself\u001b[39;49m\u001b[39m.\u001b[39;49m_traverse_game_tree(state\u001b[39m.\u001b[39;49mchild(action), player)\n\u001b[1;32m    <a href='file:///Users/sennecolson/miniforge3/lib/python3.9/site-packages/open_spiel/python/algorithms/deep_cfr_tf2.py?line=565'>566</a>\u001b[0m \u001b[39melif\u001b[39;00m state\u001b[39m.\u001b[39mcurrent_player() \u001b[39m==\u001b[39m player:\n\u001b[1;32m    <a href='file:///Users/sennecolson/miniforge3/lib/python3.9/site-packages/open_spiel/python/algorithms/deep_cfr_tf2.py?line=566'>567</a>\u001b[0m   \u001b[39m# Update the policy over the info set & actions via regret matching.\u001b[39;00m\n\u001b[1;32m    <a href='file:///Users/sennecolson/miniforge3/lib/python3.9/site-packages/open_spiel/python/algorithms/deep_cfr_tf2.py?line=567'>568</a>\u001b[0m   _, strategy \u001b[39m=\u001b[39m \u001b[39mself\u001b[39m\u001b[39m.\u001b[39m_sample_action_from_advantage(state, player)\n",
      "File \u001b[0;32m~/miniforge3/lib/python3.9/site-packages/open_spiel/python/algorithms/deep_cfr_tf2.py:568\u001b[0m, in \u001b[0;36mDeepCFRSolver._traverse_game_tree\u001b[0;34m(self, state, player)\u001b[0m\n\u001b[1;32m    <a href='file:///Users/sennecolson/miniforge3/lib/python3.9/site-packages/open_spiel/python/algorithms/deep_cfr_tf2.py?line=564'>565</a>\u001b[0m   \u001b[39mreturn\u001b[39;00m \u001b[39mself\u001b[39m\u001b[39m.\u001b[39m_traverse_game_tree(state\u001b[39m.\u001b[39mchild(action), player)\n\u001b[1;32m    <a href='file:///Users/sennecolson/miniforge3/lib/python3.9/site-packages/open_spiel/python/algorithms/deep_cfr_tf2.py?line=565'>566</a>\u001b[0m \u001b[39melif\u001b[39;00m state\u001b[39m.\u001b[39mcurrent_player() \u001b[39m==\u001b[39m player:\n\u001b[1;32m    <a href='file:///Users/sennecolson/miniforge3/lib/python3.9/site-packages/open_spiel/python/algorithms/deep_cfr_tf2.py?line=566'>567</a>\u001b[0m   \u001b[39m# Update the policy over the info set & actions via regret matching.\u001b[39;00m\n\u001b[0;32m--> <a href='file:///Users/sennecolson/miniforge3/lib/python3.9/site-packages/open_spiel/python/algorithms/deep_cfr_tf2.py?line=567'>568</a>\u001b[0m   _, strategy \u001b[39m=\u001b[39m \u001b[39mself\u001b[39;49m\u001b[39m.\u001b[39;49m_sample_action_from_advantage(state, player)\n\u001b[1;32m    <a href='file:///Users/sennecolson/miniforge3/lib/python3.9/site-packages/open_spiel/python/algorithms/deep_cfr_tf2.py?line=568'>569</a>\u001b[0m   exp_payoff \u001b[39m=\u001b[39m \u001b[39m0\u001b[39m \u001b[39m*\u001b[39m strategy\n\u001b[1;32m    <a href='file:///Users/sennecolson/miniforge3/lib/python3.9/site-packages/open_spiel/python/algorithms/deep_cfr_tf2.py?line=569'>570</a>\u001b[0m   \u001b[39mfor\u001b[39;00m action \u001b[39min\u001b[39;00m state\u001b[39m.\u001b[39mlegal_actions():\n",
      "File \u001b[0;32m~/miniforge3/lib/python3.9/site-packages/open_spiel/python/algorithms/deep_cfr_tf2.py:623\u001b[0m, in \u001b[0;36mDeepCFRSolver._sample_action_from_advantage\u001b[0;34m(self, state, player)\u001b[0m\n\u001b[1;32m    <a href='file:///Users/sennecolson/miniforge3/lib/python3.9/site-packages/open_spiel/python/algorithms/deep_cfr_tf2.py?line=618'>619</a>\u001b[0m info_state \u001b[39m=\u001b[39m tf\u001b[39m.\u001b[39mconstant(\n\u001b[1;32m    <a href='file:///Users/sennecolson/miniforge3/lib/python3.9/site-packages/open_spiel/python/algorithms/deep_cfr_tf2.py?line=619'>620</a>\u001b[0m     state\u001b[39m.\u001b[39minformation_state_tensor(player), dtype\u001b[39m=\u001b[39mtf\u001b[39m.\u001b[39mfloat32)\n\u001b[1;32m    <a href='file:///Users/sennecolson/miniforge3/lib/python3.9/site-packages/open_spiel/python/algorithms/deep_cfr_tf2.py?line=620'>621</a>\u001b[0m legal_actions_mask \u001b[39m=\u001b[39m tf\u001b[39m.\u001b[39mconstant(\n\u001b[1;32m    <a href='file:///Users/sennecolson/miniforge3/lib/python3.9/site-packages/open_spiel/python/algorithms/deep_cfr_tf2.py?line=621'>622</a>\u001b[0m     state\u001b[39m.\u001b[39mlegal_actions_mask(player), dtype\u001b[39m=\u001b[39mtf\u001b[39m.\u001b[39mfloat32)\n\u001b[0;32m--> <a href='file:///Users/sennecolson/miniforge3/lib/python3.9/site-packages/open_spiel/python/algorithms/deep_cfr_tf2.py?line=622'>623</a>\u001b[0m advantages, matched_regrets \u001b[39m=\u001b[39m \u001b[39mself\u001b[39;49m\u001b[39m.\u001b[39;49m_get_matched_regrets(\n\u001b[1;32m    <a href='file:///Users/sennecolson/miniforge3/lib/python3.9/site-packages/open_spiel/python/algorithms/deep_cfr_tf2.py?line=623'>624</a>\u001b[0m     info_state, legal_actions_mask, player)\n\u001b[1;32m    <a href='file:///Users/sennecolson/miniforge3/lib/python3.9/site-packages/open_spiel/python/algorithms/deep_cfr_tf2.py?line=624'>625</a>\u001b[0m \u001b[39mreturn\u001b[39;00m advantages\u001b[39m.\u001b[39mnumpy(), matched_regrets\u001b[39m.\u001b[39mnumpy()\n",
      "File \u001b[0;32m~/miniforge3/lib/python3.9/site-packages/tensorflow/python/util/traceback_utils.py:153\u001b[0m, in \u001b[0;36mfilter_traceback.<locals>.error_handler\u001b[0;34m(*args, **kwargs)\u001b[0m\n\u001b[1;32m    <a href='file:///Users/sennecolson/miniforge3/lib/python3.9/site-packages/tensorflow/python/util/traceback_utils.py?line=150'>151</a>\u001b[0m \u001b[39mexcept\u001b[39;00m \u001b[39mException\u001b[39;00m \u001b[39mas\u001b[39;00m e:\n\u001b[1;32m    <a href='file:///Users/sennecolson/miniforge3/lib/python3.9/site-packages/tensorflow/python/util/traceback_utils.py?line=151'>152</a>\u001b[0m   filtered_tb \u001b[39m=\u001b[39m _process_traceback_frames(e\u001b[39m.\u001b[39m__traceback__)\n\u001b[0;32m--> <a href='file:///Users/sennecolson/miniforge3/lib/python3.9/site-packages/tensorflow/python/util/traceback_utils.py?line=152'>153</a>\u001b[0m   \u001b[39mraise\u001b[39;00m e\u001b[39m.\u001b[39mwith_traceback(filtered_tb) \u001b[39mfrom\u001b[39;00m \u001b[39mNone\u001b[39m\n\u001b[1;32m    <a href='file:///Users/sennecolson/miniforge3/lib/python3.9/site-packages/tensorflow/python/util/traceback_utils.py?line=153'>154</a>\u001b[0m \u001b[39mfinally\u001b[39;00m:\n\u001b[1;32m    <a href='file:///Users/sennecolson/miniforge3/lib/python3.9/site-packages/tensorflow/python/util/traceback_utils.py?line=154'>155</a>\u001b[0m   \u001b[39mdel\u001b[39;00m filtered_tb\n",
      "File \u001b[0;32m~/miniforge3/lib/python3.9/site-packages/tensorflow/python/framework/ops.py:1654\u001b[0m, in \u001b[0;36mconvert_to_tensor\u001b[0;34m(value, dtype, name, as_ref, preferred_dtype, dtype_hint, ctx, accepted_result_types)\u001b[0m\n\u001b[1;32m   <a href='file:///Users/sennecolson/miniforge3/lib/python3.9/site-packages/tensorflow/python/framework/ops.py?line=1651'>1652</a>\u001b[0m     graph \u001b[39m=\u001b[39m get_default_graph()\n\u001b[1;32m   <a href='file:///Users/sennecolson/miniforge3/lib/python3.9/site-packages/tensorflow/python/framework/ops.py?line=1652'>1653</a>\u001b[0m     \u001b[39mif\u001b[39;00m \u001b[39mnot\u001b[39;00m graph\u001b[39m.\u001b[39mbuilding_function:\n\u001b[0;32m-> <a href='file:///Users/sennecolson/miniforge3/lib/python3.9/site-packages/tensorflow/python/framework/ops.py?line=1653'>1654</a>\u001b[0m       \u001b[39mraise\u001b[39;00m \u001b[39mRuntimeError\u001b[39;00m(\u001b[39m\"\u001b[39m\u001b[39mAttempting to capture an EagerTensor without \u001b[39m\u001b[39m\"\u001b[39m\n\u001b[1;32m   <a href='file:///Users/sennecolson/miniforge3/lib/python3.9/site-packages/tensorflow/python/framework/ops.py?line=1654'>1655</a>\u001b[0m                          \u001b[39m\"\u001b[39m\u001b[39mbuilding a function.\u001b[39m\u001b[39m\"\u001b[39m)\n\u001b[1;32m   <a href='file:///Users/sennecolson/miniforge3/lib/python3.9/site-packages/tensorflow/python/framework/ops.py?line=1655'>1656</a>\u001b[0m     \u001b[39mreturn\u001b[39;00m graph\u001b[39m.\u001b[39mcapture(value, name\u001b[39m=\u001b[39mname)\n\u001b[1;32m   <a href='file:///Users/sennecolson/miniforge3/lib/python3.9/site-packages/tensorflow/python/framework/ops.py?line=1657'>1658</a>\u001b[0m \u001b[39mif\u001b[39;00m dtype \u001b[39mis\u001b[39;00m \u001b[39mnot\u001b[39;00m \u001b[39mNone\u001b[39;00m:\n",
      "\u001b[0;31mRuntimeError\u001b[0m: Attempting to capture an EagerTensor without building a function."
     ]
    }
   ],
   "source": [
    "model = models.deep_cfr_model_tf2()"
   ]
  },
  {
   "cell_type": "code",
   "execution_count": 53,
   "metadata": {},
   "outputs": [
    {
     "name": "stdout",
     "output_type": "stream",
     "text": [
      "Possible actions: \n",
      "['Deal:0', 'Deal:1', 'Deal:2']\n",
      "{0: 0.9848237037658693, 1: 0.0151763008907437}\n",
      "Pass\n",
      "0\n"
     ]
    }
   ],
   "source": [
    "game = pyspiel.load_game('kuhn_poker')\n",
    "policy = utils.tabular_policy_from_csv(game, \"/tmp/deep_cfr_tf2\")\n",
    "state = game.new_initial_state()\n",
    "print(\"Possible actions: \")\n",
    "possible_actions = [state.action_to_string(a) for a in state.legal_actions()]\n",
    "print(possible_actions)\n",
    "state.apply_action_with_legality_check(1)\n",
    "state.apply_action_with_legality_check(2)\n",
    "print(policy.action_probabilities(state))\n",
    "print(state.current_player())"
   ]
  },
  {
   "cell_type": "code",
   "execution_count": 54,
   "metadata": {},
   "outputs": [
    {
     "name": "stdout",
     "output_type": "stream",
     "text": [
      "{0: 0.0102521609514951, 1: 0.9897478818893432}\n",
      "1 2 b\n"
     ]
    }
   ],
   "source": [
    "state.apply_action_with_legality_check(1)\n",
    "print(policy.action_probabilities(state))\n",
    "print(state)"
   ]
  },
  {
   "cell_type": "code",
   "execution_count": 33,
   "metadata": {},
   "outputs": [
    {
     "name": "stdout",
     "output_type": "stream",
     "text": [
      "Pass\n"
     ]
    }
   ],
   "source": [
    "print(state.action_to_string(0))"
   ]
  },
  {
   "cell_type": "code",
   "execution_count": null,
   "metadata": {},
   "outputs": [],
   "source": []
  }
 ],
 "metadata": {
  "interpreter": {
   "hash": "b95502189abcc9a6f089083f6b33867805f1a950baee7549d22bcc2d172d462d"
  },
  "kernelspec": {
   "display_name": "Python 3.9.10",
   "language": "python",
   "name": "python3"
  },
  "language_info": {
   "codemirror_mode": {
    "name": "ipython",
    "version": 3
   },
   "file_extension": ".py",
   "mimetype": "text/x-python",
   "name": "python",
   "nbconvert_exporter": "python",
   "pygments_lexer": "ipython3",
   "version": "3.9.12"
  },
  "orig_nbformat": 4
 },
 "nbformat": 4,
 "nbformat_minor": 2
}
