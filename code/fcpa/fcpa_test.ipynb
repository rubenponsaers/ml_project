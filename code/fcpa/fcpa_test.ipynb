{
 "cells": [
  {
   "cell_type": "code",
   "execution_count": 68,
   "metadata": {},
   "outputs": [],
   "source": [
    "import pyspiel\n",
    "%reload_ext autoreload\n",
    "%autoreload 2\n",
    "from fcpa_agent import *\n",
    "from open_spiel.python.bots import human\n",
    "import numpy as np"
   ]
  },
  {
   "cell_type": "code",
   "execution_count": 69,
   "metadata": {},
   "outputs": [
    {
     "name": "stdout",
     "output_type": "stream",
     "text": [
      "<class 'open_spiel.python.algorithms.deep_cfr_tf2.PolicyNetwork'>\n",
      "loaded model\n"
     ]
    },
    {
     "name": "stderr",
     "output_type": "stream",
     "text": [
      "2022-05-18 14:26:51.112966: I tensorflow/core/grappler/optimizers/custom_graph_optimizer_registry.cc:113] Plugin optimizer for device_type GPU is enabled.\n"
     ]
    }
   ],
   "source": [
    "agent_id = 0\n",
    "human_id = 1-agent_id\n",
    "agent = get_agent_for_tournament(agent_id)\n",
    "human_player = human.HumanBot()\n",
    "if agent_id == 1:\n",
    "  agents.clear()\n",
    "  agents.append(agent)\n",
    "  agents.append(human_player)\n",
    "else:\n",
    "  agents.append(human_player)\n",
    "  agents.append(agent)\n"
   ]
  },
  {
   "cell_type": "code",
   "execution_count": 70,
   "metadata": {},
   "outputs": [],
   "source": [
    "fcpa_game_string = (\n",
    "        \"universal_poker(betting=nolimit,numPlayers=2,numRounds=4,blind=150 100,\"\n",
    "        \"firstPlayer=2 1 1 1,numSuits=4,numRanks=13,numHoleCards=2,numBoardCards=0 3 1 1,\"\n",
    "        \"stack=20000 20000,bettingAbstraction=fcpa)\")\n",
    "game = pyspiel.load_game(fcpa_game_string)"
   ]
  },
  {
   "cell_type": "code",
   "execution_count": 75,
   "metadata": {},
   "outputs": [
    {
     "name": "stdout",
     "output_type": "stream",
     "text": [
      "Chance node with 52 outcomes\n",
      "Sampled outcome:  player=-1 move=Deal(29)\n",
      "Chance node with 51 outcomes\n",
      "Sampled outcome:  player=-1 move=Deal(48)\n",
      "Chance node with 50 outcomes\n",
      "Sampled outcome:  player=-1 move=Deal(22)\n",
      "Chance node with 49 outcomes\n",
      "Sampled outcome:  player=-1 move=Deal(15)\n",
      "####STATE####\n",
      "[Round 0][Player: 1][Pot: 300][Money: 19850 19900][Private: 7h5s][Public: ][Sequences: ]\n",
      "Legal action: player=1 move=Fold (0)\n",
      "Legal action: player=1 move=Call (1)\n",
      "Legal action: player=1 move=Bet (2)\n",
      "Legal action: player=1 move=AllIn (3)\n",
      "Player  1 , chose action:  player=1 move=Call\n",
      "Legal action: player=0 move=Call (1)\n",
      "Legal action: player=0 move=Bet (2)\n",
      "Legal action: player=0 move=AllIn (3)\n",
      "{1: 0.001765426, 2: 0.05230988, 3: 0.94592476}\n",
      "[1, 2, 3]\n",
      "2\n",
      "Player  0 , chose action:  player=0 move=Bet\n",
      "####STATE####\n",
      "[Round 0][Player: 1][Pot: 900][Money: 19550 19850][Private: 7h5s][Public: ][Sequences: cr450]\n",
      "Legal action: player=1 move=Fold (0)\n",
      "Legal action: player=1 move=Call (1)\n",
      "Legal action: player=1 move=Bet (2)\n",
      "Legal action: player=1 move=AllIn (3)\n",
      "Player  1 , chose action:  player=1 move=Call\n",
      "Chance node with 48 outcomes\n",
      "Sampled outcome:  player=-1 move=Deal(8)\n",
      "Chance node with 47 outcomes\n",
      "Sampled outcome:  player=-1 move=Deal(43)\n",
      "Chance node with 46 outcomes\n",
      "Sampled outcome:  player=-1 move=Deal(9)\n",
      "Legal action: player=0 move=Call (1)\n",
      "Legal action: player=0 move=Bet (2)\n",
      "Legal action: player=0 move=AllIn (3)\n",
      "{1: 0.009240779, 2: 0.8149497, 3: 0.17580952}\n",
      "[1, 2, 3]\n",
      "2\n",
      "Player  0 , chose action:  player=0 move=Bet\n",
      "####STATE####\n",
      "[Round 1][Player: 1][Pot: 2700][Money: 18650 19550][Private: 7h5s][Public: Qs4d4c][Sequences: cr450c|r1350]\n",
      "Legal action: player=1 move=Fold (0)\n",
      "Legal action: player=1 move=Call (1)\n",
      "Legal action: player=1 move=Bet (2)\n",
      "Legal action: player=1 move=AllIn (3)\n",
      "Player  1 , chose action:  player=1 move=Call\n",
      "Chance node with 45 outcomes\n",
      "Sampled outcome:  player=-1 move=Deal(1)\n",
      "Legal action: player=0 move=Call (1)\n",
      "Legal action: player=0 move=Bet (2)\n",
      "Legal action: player=0 move=AllIn (3)\n",
      "{1: 0.11069413, 2: 0.84485316, 3: 0.04445265}\n",
      "[1, 2, 3]\n",
      "2\n",
      "Player  0 , chose action:  player=0 move=Bet\n",
      "####STATE####\n",
      "[Round 2][Player: 1][Pot: 8100][Money: 15950 18650][Private: 7h5s][Public: Qs4d4c2d][Sequences: cr450c|r1350c|r4050]\n",
      "Legal action: player=1 move=Fold (0)\n",
      "Legal action: player=1 move=Call (1)\n",
      "Legal action: player=1 move=Bet (2)\n",
      "Legal action: player=1 move=AllIn (3)\n",
      "Player  1 , chose action:  player=1 move=Call\n",
      "Chance node with 44 outcomes\n",
      "Sampled outcome:  player=-1 move=Deal(21)\n",
      "Legal action: player=0 move=Call (1)\n",
      "Legal action: player=0 move=Bet (2)\n",
      "Legal action: player=0 move=AllIn (3)\n",
      "{1: 0.21511425, 2: 0.77785134, 3: 0.007034395}\n",
      "[1, 2, 3]\n",
      "1\n",
      "Player  0 , chose action:  player=0 move=Call\n",
      "####STATE####\n",
      "[Round 3][Player: 1][Pot: 8100][Money: 15950 15950][Private: 7h5s][Public: Qs7d4d4c2d][Sequences: cr450c|r1350c|r4050c|c]\n",
      "Legal action: player=1 move=Call (1)\n",
      "Legal action: player=1 move=Bet (2)\n",
      "Legal action: player=1 move=AllIn (3)\n",
      "Player  1 , chose action:  player=1 move=Call\n",
      "BettingAbstration: FCPA\n",
      "P0 Cards: Ac9d\n",
      "P1 Cards: 7h5s\n",
      "BoardCards Qs7d4d4c2d\n",
      "P0 Reward: -4050\n",
      "P1 Reward: 4050\n",
      "Node type?: Terminal Node!\n",
      "PossibleActions (0): []\n",
      "Round: 3\n",
      "ACPC State: STATE:0:cr450c/r1350c/r4050c/cc:9dAc|7h5s/4cQs4d/2d/7d\n",
      "Spent: [P0: 4050  P1: 4050  ]\n",
      "\n",
      "Action Sequence: ddddcpcdddpcdpcdcc\n",
      "Utility for player 0 is -4050.0\n",
      "Utility for player 1 is 4050.0\n"
     ]
    }
   ],
   "source": [
    "rng = np.random.RandomState()\n",
    "state = game.new_initial_state()\n",
    "while not state.is_terminal():\n",
    "  # The state can be three different types: chance node,\n",
    "  # simultaneous node, or decision node\n",
    "  current_player = state.current_player()\n",
    "  if current_player == human_id:\n",
    "    print(\"####STATE####\")\n",
    "    print(state.information_state_string(human_id))\n",
    "  if state.is_chance_node():\n",
    "    # Chance node: sample an outcome\n",
    "    outcomes = state.chance_outcomes()\n",
    "    num_actions = len(outcomes)\n",
    "    print(\"Chance node with \" + str(num_actions) + \" outcomes\")\n",
    "    action_list, prob_list = zip(*outcomes)\n",
    "    action = rng.choice(action_list, p=prob_list)\n",
    "    print(\"Sampled outcome: \",\n",
    "          state.action_to_string(state.current_player(), action))\n",
    "    state.apply_action(action)\n",
    "  else:\n",
    "    # Decision node: sample action for the single current player\n",
    "    legal_actions = state.legal_actions()\n",
    "    for action in legal_actions:\n",
    "      print(\"Legal action: {} ({})\".format(\n",
    "          state.action_to_string(current_player, action), action))\n",
    "    action = agents[current_player].step(state)\n",
    "    action_string = state.action_to_string(current_player, action)\n",
    "    print(\"Player \", current_player, \", chose action: \",\n",
    "          action_string)\n",
    "    state.apply_action(action)\n",
    "\n",
    "# Game is now done. Print utilities for each player\n",
    "print(state)\n",
    "returns = state.returns()\n",
    "for pid in range(game.num_players()):\n",
    "  print(\"Utility for player {} is {}\".format(pid, returns[pid]))"
   ]
  },
  {
   "cell_type": "code",
   "execution_count": null,
   "metadata": {},
   "outputs": [],
   "source": []
  }
 ],
 "metadata": {
  "interpreter": {
   "hash": "39ced889cdad1e762c1510269044cf4d0d31e15227034e3d67b6a15fb6180a91"
  },
  "kernelspec": {
   "display_name": "Python 3.9.10",
   "language": "python",
   "name": "python3"
  },
  "language_info": {
   "codemirror_mode": {
    "name": "ipython",
    "version": 3
   },
   "file_extension": ".py",
   "mimetype": "text/x-python",
   "name": "python",
   "nbconvert_exporter": "python",
   "pygments_lexer": "ipython3",
   "version": "3.9.10"
  },
  "orig_nbformat": 4
 },
 "nbformat": 4,
 "nbformat_minor": 2
}
