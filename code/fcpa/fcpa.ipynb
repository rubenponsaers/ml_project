{
 "cells": [
  {
   "cell_type": "code",
   "execution_count": 1,
   "metadata": {},
   "outputs": [],
   "source": [
    "from __future__ import absolute_import\n",
    "from __future__ import division\n",
    "from __future__ import print_function\n",
    "\n",
    "from absl import app\n",
    "from absl import flags\n",
    "import numpy as np\n",
    "\n",
    "from open_spiel.python.bots import human\n",
    "from open_spiel.python.bots import uniform_random\n",
    "import pyspiel\n",
    "\n",
    "%reload_ext autoreload\n",
    "%autoreload 2\n",
    "from fcpa_agent import *"
   ]
  },
  {
   "cell_type": "code",
   "execution_count": 8,
   "metadata": {},
   "outputs": [
    {
     "name": "stdout",
     "output_type": "stream",
     "text": [
      "Creating game: universal_poker(betting=nolimit,numPlayers=2,numRounds=4,blind=150 100,firstPlayer=2 1 1 1,numSuits=4,numRanks=13,numHoleCards=2,numBoardCards=0 3 1 1,stack=20000 20000,bettingAbstraction=fcpa)\n"
     ]
    }
   ],
   "source": [
    "\n",
    "rng = np.random.RandomState()\n",
    "fcpa_game_string = (\n",
    "  \"universal_poker(betting=nolimit,numPlayers=2,numRounds=4,blind=150 100,\"\n",
    "  \"firstPlayer=2 1 1 1,numSuits=4,numRanks=13,numHoleCards=2,numBoardCards=0 3 1 1,\"\n",
    "  \"stack=20000 20000,bettingAbstraction=fcpa)\")\n",
    "print(\"Creating game: {}\".format(fcpa_game_string))\n",
    "game = pyspiel.load_game(fcpa_game_string)\n",
    "agent = get_agent_for_tournament(0)\n",
    "random_agent = uniform_random.UniformRandomBot(1, rng)\n",
    "agents = [agent, random_agent]\n",
    "#agents = [\n",
    "#  uniform_random.UniformRandomBot(idx, rng)\n",
    "#  for idx in range(2)\n",
    "#]"
   ]
  },
  {
   "cell_type": "code",
   "execution_count": 9,
   "metadata": {},
   "outputs": [
    {
     "name": "stdout",
     "output_type": "stream",
     "text": [
      "Sampled outcome:  player=-1 move=Deal(51)\n",
      "Sampled outcome:  player=-1 move=Deal(33)\n",
      "Sampled outcome:  player=-1 move=Deal(12)\n",
      "Sampled outcome:  player=-1 move=Deal(3)\n"
     ]
    },
    {
     "ename": "AttributeError",
     "evalue": "type object 'super' has no attribute 'step'",
     "output_type": "error",
     "traceback": [
      "\u001b[0;31m---------------------------------------------------------------------------\u001b[0m",
      "\u001b[0;31mAttributeError\u001b[0m                            Traceback (most recent call last)",
      "\u001b[1;32m/Users/sennecolson/My Drive (sennecolson18@gmail.com)/CW/Semester2/MLP/ml_project/code/fcpa/fcpa.ipynb Cell 3'\u001b[0m in \u001b[0;36m<cell line: 4>\u001b[0;34m()\u001b[0m\n\u001b[1;32m     <a href='vscode-notebook-cell:/Users/sennecolson/My%20Drive%20%28sennecolson18%40gmail.com%29/CW/Semester2/MLP/ml_project/code/fcpa/fcpa.ipynb#ch0000002?line=18'>19</a>\u001b[0m legal_actions \u001b[39m=\u001b[39m state\u001b[39m.\u001b[39mlegal_actions()\n\u001b[1;32m     <a href='vscode-notebook-cell:/Users/sennecolson/My%20Drive%20%28sennecolson18%40gmail.com%29/CW/Semester2/MLP/ml_project/code/fcpa/fcpa.ipynb#ch0000002?line=19'>20</a>\u001b[0m \u001b[39m#for action in legal_actions:\u001b[39;00m\n\u001b[1;32m     <a href='vscode-notebook-cell:/Users/sennecolson/My%20Drive%20%28sennecolson18%40gmail.com%29/CW/Semester2/MLP/ml_project/code/fcpa/fcpa.ipynb#ch0000002?line=20'>21</a>\u001b[0m \u001b[39m#  print(\"Legal action: {} ({})\"\u001b[39;00m\n\u001b[1;32m     <a href='vscode-notebook-cell:/Users/sennecolson/My%20Drive%20%28sennecolson18%40gmail.com%29/CW/Semester2/MLP/ml_project/code/fcpa/fcpa.ipynb#ch0000002?line=21'>22</a>\u001b[0m \u001b[39m#    .format(state.action_to_string(current_player, action), action))\u001b[39;00m\n\u001b[0;32m---> <a href='vscode-notebook-cell:/Users/sennecolson/My%20Drive%20%28sennecolson18%40gmail.com%29/CW/Semester2/MLP/ml_project/code/fcpa/fcpa.ipynb#ch0000002?line=22'>23</a>\u001b[0m action \u001b[39m=\u001b[39m agents[current_player]\u001b[39m.\u001b[39;49mstep(state)\n\u001b[1;32m     <a href='vscode-notebook-cell:/Users/sennecolson/My%20Drive%20%28sennecolson18%40gmail.com%29/CW/Semester2/MLP/ml_project/code/fcpa/fcpa.ipynb#ch0000002?line=23'>24</a>\u001b[0m action_string \u001b[39m=\u001b[39m state\u001b[39m.\u001b[39maction_to_string(current_player, action)\n\u001b[1;32m     <a href='vscode-notebook-cell:/Users/sennecolson/My%20Drive%20%28sennecolson18%40gmail.com%29/CW/Semester2/MLP/ml_project/code/fcpa/fcpa.ipynb#ch0000002?line=24'>25</a>\u001b[0m \u001b[39m#print(\"Player {}, chose action: \"\u001b[39;00m\n\u001b[1;32m     <a href='vscode-notebook-cell:/Users/sennecolson/My%20Drive%20%28sennecolson18%40gmail.com%29/CW/Semester2/MLP/ml_project/code/fcpa/fcpa.ipynb#ch0000002?line=25'>26</a>\u001b[0m \u001b[39m#  .format(current_player, action_string))\u001b[39;00m\n",
      "File \u001b[0;32m~/My Drive (sennecolson18@gmail.com)/CW/Semester2/MLP/ml_project/code/fcpa/fcpa_agent.py:82\u001b[0m, in \u001b[0;36mAgent.step\u001b[0;34m(self, state)\u001b[0m\n\u001b[1;32m     <a href='file:///Users/sennecolson/My%20Drive%20%28sennecolson18%40gmail.com%29/CW/Semester2/MLP/ml_project/code/fcpa/fcpa_agent.py?line=75'>76</a>\u001b[0m \u001b[39mdef\u001b[39;00m \u001b[39mstep\u001b[39m(\u001b[39mself\u001b[39m, state):\n\u001b[1;32m     <a href='file:///Users/sennecolson/My%20Drive%20%28sennecolson18%40gmail.com%29/CW/Semester2/MLP/ml_project/code/fcpa/fcpa_agent.py?line=76'>77</a>\u001b[0m     \u001b[39m\"\"\"Returns the selected action in the given state.\u001b[39;00m\n\u001b[1;32m     <a href='file:///Users/sennecolson/My%20Drive%20%28sennecolson18%40gmail.com%29/CW/Semester2/MLP/ml_project/code/fcpa/fcpa_agent.py?line=77'>78</a>\u001b[0m \u001b[39m    :param state: The current state of the game.\u001b[39;00m\n\u001b[1;32m     <a href='file:///Users/sennecolson/My%20Drive%20%28sennecolson18%40gmail.com%29/CW/Semester2/MLP/ml_project/code/fcpa/fcpa_agent.py?line=78'>79</a>\u001b[0m \u001b[39m    :returns: The selected action from the legal actions, or\u001b[39;00m\n\u001b[1;32m     <a href='file:///Users/sennecolson/My%20Drive%20%28sennecolson18%40gmail.com%29/CW/Semester2/MLP/ml_project/code/fcpa/fcpa_agent.py?line=79'>80</a>\u001b[0m \u001b[39m        `pyspiel.INVALID_ACTION` if there are no legal actions available.\u001b[39;00m\n\u001b[1;32m     <a href='file:///Users/sennecolson/My%20Drive%20%28sennecolson18%40gmail.com%29/CW/Semester2/MLP/ml_project/code/fcpa/fcpa_agent.py?line=80'>81</a>\u001b[0m \u001b[39m    \"\"\"\u001b[39;00m\n\u001b[0;32m---> <a href='file:///Users/sennecolson/My%20Drive%20%28sennecolson18%40gmail.com%29/CW/Semester2/MLP/ml_project/code/fcpa/fcpa_agent.py?line=81'>82</a>\u001b[0m     \u001b[39msuper\u001b[39;49m\u001b[39m.\u001b[39;49mstep(state)\n\u001b[1;32m     <a href='file:///Users/sennecolson/My%20Drive%20%28sennecolson18%40gmail.com%29/CW/Semester2/MLP/ml_project/code/fcpa/fcpa_agent.py?line=82'>83</a>\u001b[0m     \u001b[39m'''\u001b[39;00m\n\u001b[1;32m     <a href='file:///Users/sennecolson/My%20Drive%20%28sennecolson18%40gmail.com%29/CW/Semester2/MLP/ml_project/code/fcpa/fcpa_agent.py?line=83'>84</a>\u001b[0m \u001b[39m    print(\"step\")\u001b[39;00m\n\u001b[1;32m     <a href='file:///Users/sennecolson/My%20Drive%20%28sennecolson18%40gmail.com%29/CW/Semester2/MLP/ml_project/code/fcpa/fcpa_agent.py?line=84'>85</a>\u001b[0m \u001b[39m    #print(dir(self.policy))\u001b[39;00m\n\u001b[1;32m     <a href='file:///Users/sennecolson/My%20Drive%20%28sennecolson18%40gmail.com%29/CW/Semester2/MLP/ml_project/code/fcpa/fcpa_agent.py?line=85'>86</a>\u001b[0m \u001b[39m    print(self.policy.predict(state))\u001b[39;00m\n\u001b[1;32m     <a href='file:///Users/sennecolson/My%20Drive%20%28sennecolson18%40gmail.com%29/CW/Semester2/MLP/ml_project/code/fcpa/fcpa_agent.py?line=86'>87</a>\u001b[0m \u001b[39m    return self.step_with_policy(state)[1]\u001b[39;00m\n\u001b[1;32m     <a href='file:///Users/sennecolson/My%20Drive%20%28sennecolson18%40gmail.com%29/CW/Semester2/MLP/ml_project/code/fcpa/fcpa_agent.py?line=87'>88</a>\u001b[0m \u001b[39m    '''\u001b[39;00m\n",
      "\u001b[0;31mAttributeError\u001b[0m: type object 'super' has no attribute 'step'"
     ]
    }
   ],
   "source": [
    "state = game.new_initial_state()\n",
    "#print(\"INITIAL STATE\")\n",
    "#print(str(state))\n",
    "while not state.is_terminal():\n",
    "  current_player = state.current_player()\n",
    "  if state.is_chance_node():\n",
    "    # Chance node: sample an outcome\n",
    "    outcomes = state.chance_outcomes()\n",
    "    num_actions = len(outcomes)\n",
    "    #print(\"Chance node with {} outcomes\"\n",
    "    #  .format(num_actions))\n",
    "    action_list, prob_list = zip(*outcomes)\n",
    "    action = rng.choice(action_list, p=prob_list)\n",
    "    print(\"Sampled outcome: \",\n",
    "          state.action_to_string(state.current_player(), action))\n",
    "    state.apply_action(action)\n",
    "  else:\n",
    "    # Decision node: sample action for the single current player\n",
    "    legal_actions = state.legal_actions()\n",
    "    #for action in legal_actions:\n",
    "    #  print(\"Legal action: {} ({})\"\n",
    "    #    .format(state.action_to_string(current_player, action), action))\n",
    "    action = agents[current_player].step(state)\n",
    "    action_string = state.action_to_string(current_player, action)\n",
    "    #print(\"Player {}, chose action: \"\n",
    "    #  .format(current_player, action_string))\n",
    "    state.apply_action(action)\n",
    "\n",
    "  #print(\"\")\n",
    "  #print(\"NEXT STATE:\")\n",
    "  #print(str(state))\n",
    "\n",
    "# Game is now done. Print utilities for each player\n",
    "  returns = state.returns()\n",
    "  #for pid in range(game.num_players()):\n",
    "    #print(\"Utility for player {} is {}\".format(pid, returns[pid]))\n"
   ]
  },
  {
   "cell_type": "code",
   "execution_count": null,
   "metadata": {},
   "outputs": [],
   "source": []
  }
 ],
 "metadata": {
  "interpreter": {
   "hash": "b95502189abcc9a6f089083f6b33867805f1a950baee7549d22bcc2d172d462d"
  },
  "kernelspec": {
   "display_name": "Python 3.9.12 ('base')",
   "language": "python",
   "name": "python3"
  },
  "language_info": {
   "codemirror_mode": {
    "name": "ipython",
    "version": 3
   },
   "file_extension": ".py",
   "mimetype": "text/x-python",
   "name": "python",
   "nbconvert_exporter": "python",
   "pygments_lexer": "ipython3",
   "version": "3.9.12"
  },
  "orig_nbformat": 4
 },
 "nbformat": 4,
 "nbformat_minor": 2
}
