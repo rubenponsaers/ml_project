{
 "cells": [
  {
   "cell_type": "code",
   "execution_count": 1,
   "metadata": {},
   "outputs": [],
   "source": [
    "import pyspiel"
   ]
  },
  {
   "cell_type": "code",
   "execution_count": 3,
   "metadata": {},
   "outputs": [],
   "source": [
    "rps = pyspiel.load_matrix_game('matrix_rps')"
   ]
  },
  {
   "cell_type": "code",
   "execution_count": 10,
   "metadata": {},
   "outputs": [
    {
     "name": "stdout",
     "output_type": "stream",
     "text": [
      "['__class__', '__delattr__', '__dir__', '__doc__', '__eq__', '__format__', '__ge__', '__getattribute__', '__getstate__', '__gt__', '__hash__', '__init__', '__init_subclass__', '__le__', '__lt__', '__module__', '__ne__', '__new__', '__reduce__', '__reduce_ex__', '__repr__', '__setattr__', '__setstate__', '__sizeof__', '__str__', '__subclasshook__', 'action_to_string', 'col_action_name', 'col_utilities', 'col_utility', 'deserialize_state', 'get_parameters', 'get_type', 'get_utilities', 'get_utility', 'information_state_tensor_layout', 'information_state_tensor_shape', 'information_state_tensor_size', 'make_observer', 'max_chance_nodes_in_history', 'max_chance_outcomes', 'max_game_length', 'max_history_length', 'max_move_number', 'max_utility', 'min_utility', 'new_initial_state', 'new_initial_state_for_population', 'new_initial_states', 'num_cols', 'num_distinct_actions', 'num_players', 'num_rows', 'observation_tensor_layout', 'observation_tensor_shape', 'observation_tensor_size', 'player_utilities', 'player_utility', 'policy_tensor_shape', 'row_action_name', 'row_utilities', 'row_utility', 'utility_sum']\n"
     ]
    }
   ],
   "source": [
    "print(dir(rps))"
   ]
  },
  {
   "cell_type": "code",
   "execution_count": 12,
   "metadata": {},
   "outputs": [
    {
     "ename": "TypeError",
     "evalue": "action_to_string(): incompatible function arguments. The following argument types are supported:\n    1. (self: pyspiel.Game, arg0: int, arg1: int) -> str\n\nInvoked with: matrix_rps(), matrix_rps()",
     "output_type": "error",
     "traceback": [
      "\u001b[0;31m---------------------------------------------------------------------------\u001b[0m",
      "\u001b[0;31mTypeError\u001b[0m                                 Traceback (most recent call last)",
      "\u001b[0;32m/var/folders/ff/4m3n_hd533b6nw1lny2gjjvh0000gn/T/ipykernel_64678/2426686935.py\u001b[0m in \u001b[0;36m<module>\u001b[0;34m\u001b[0m\n\u001b[0;32m----> 1\u001b[0;31m \u001b[0mprint\u001b[0m\u001b[0;34m(\u001b[0m\u001b[0mrps\u001b[0m\u001b[0;34m.\u001b[0m\u001b[0maction_to_string\u001b[0m\u001b[0;34m(\u001b[0m\u001b[0mrps\u001b[0m\u001b[0;34m)\u001b[0m\u001b[0;34m)\u001b[0m\u001b[0;34m\u001b[0m\u001b[0;34m\u001b[0m\u001b[0m\n\u001b[0m",
      "\u001b[0;31mTypeError\u001b[0m: action_to_string(): incompatible function arguments. The following argument types are supported:\n    1. (self: pyspiel.Game, arg0: int, arg1: int) -> str\n\nInvoked with: matrix_rps(), matrix_rps()"
     ]
    }
   ],
   "source": []
  },
  {
   "cell_type": "code",
   "execution_count": null,
   "metadata": {},
   "outputs": [],
   "source": []
  }
 ],
 "metadata": {
  "interpreter": {
   "hash": "250dc8700f3acd501be3a96af2484cd0930ae022b5c1b1c81460b46413629d36"
  },
  "kernelspec": {
   "display_name": "Python 3.9.7 ('mlp')",
   "language": "python",
   "name": "python3"
  },
  "language_info": {
   "codemirror_mode": {
    "name": "ipython",
    "version": 3
   },
   "file_extension": ".py",
   "mimetype": "text/x-python",
   "name": "python",
   "nbconvert_exporter": "python",
   "pygments_lexer": "ipython3",
   "version": "3.9.7"
  },
  "orig_nbformat": 4
 },
 "nbformat": 4,
 "nbformat_minor": 2
}
